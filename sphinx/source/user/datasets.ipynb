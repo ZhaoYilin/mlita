{
 "cells": [
  {
   "cell_type": "markdown",
   "id": "9278795d",
   "metadata": {},
   "source": [
    "# Data Sets"
   ]
  },
  {
   "cell_type": "markdown",
   "id": "5842085e",
   "metadata": {},
   "source": [
    "The [Polar](./data/polar.csv) data set is a multivariate data set used and made. The data set consists of 50 samples from each of "
   ]
  },
  {
   "cell_type": "markdown",
   "id": "bc252c84",
   "metadata": {},
   "source": [
    " [nmr](./data/nmr_O.csv)"
   ]
  },
  {
   "cell_type": "code",
   "execution_count": null,
   "id": "3494a4e1",
   "metadata": {},
   "outputs": [],
   "source": []
  }
 ],
 "metadata": {
  "kernelspec": {
   "display_name": "Python 3 (ipykernel)",
   "language": "python",
   "name": "python3"
  },
  "language_info": {
   "codemirror_mode": {
    "name": "ipython",
    "version": 3
   },
   "file_extension": ".py",
   "mimetype": "text/x-python",
   "name": "python",
   "nbconvert_exporter": "python",
   "pygments_lexer": "ipython3",
   "version": "3.9.12"
  }
 },
 "nbformat": 4,
 "nbformat_minor": 5
}
