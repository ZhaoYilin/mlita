{
 "cells": [
  {
   "cell_type": "markdown",
   "id": "9278795d",
   "metadata": {},
   "source": [
    "# Data Sets"
   ]
  },
  {
   "cell_type": "markdown",
   "id": "5842085e",
   "metadata": {},
   "source": [
    "## Liu's Database\n",
    "\n",
    "### Abstract\n",
    "The Zhao's data set is a multivariate data set used for eﬃcient and accurate density-based prediction of\n",
    "macromolecular molecular properties. This data sets consists of 11 different types of Information-theoretic approach quantities (ITA). The rows being the ITA values and the columns being: Shannon, Fisher, Fisher', GBP, E2, E3, R2, R3, G1, G2, G3, iso,\taniso.\n",
    "\n",
    "### Download\n",
    "- [Polar](./data/polar.csv1)\n",
    "- [nmr](./data/nmr_O.csv1)\n",
    "- [nucleophiles and electrophiles](./data/nucleophiles_and_electrophiles.xlsx1)\n",
    "- Currently covered [nucleophiles and electrophiles](./data/nucleophiles_and_electrophiles.zip1) molecule .xyz files.\n",
    "\n",
    "### How to cite\n",
    "When using this dataset, please make sure to cite the following two papers:\n"
   ]
  },
  {
   "cell_type": "code",
   "execution_count": 1,
   "id": "9d15caae",
   "metadata": {
    "execution": {
     "iopub.execute_input": "2023-07-18T22:09:11.810658Z",
     "iopub.status.busy": "2023-07-18T22:09:11.810219Z",
     "iopub.status.idle": "2023-07-18T22:09:13.262140Z",
     "shell.execute_reply": "2023-07-18T22:09:13.260577Z"
    }
   },
   "outputs": [],
   "source": [
    "from mlita import datasets\n",
    "\n",
    "# import some data to play with\n",
    "#zhaos = datasets.load_zhaos()\n",
    "#X = zhaos.data[:, :2]  # we only take the first two features.\n",
    "#y = zhaos.target"
   ]
  },
  {
   "cell_type": "markdown",
   "id": "b7be344f",
   "metadata": {},
   "source": [
    "## Mayr's Database\n",
    "\n",
    "\n",
    "### Abstract\n",
    "[Mayr's Database Of Reactivity Parameters](https://www.cup.lmu.de/oc/mayr/reaktionsdatenbank/) currently the database contains the reactivity parameters of 1256 nucleophiles and 344 electrophiles.\n",
    "\n",
    "According to $log\\ k20°C = sN(N + E)$\n",
    "\n",
    "### Download\n",
    "- Currently covered [nucleophiles](./data/nucleophiles.zip) molecule .xyz files.\n",
    "\n",
    "- Currently covered [electronphiles](./data/electronphiles.zip) molecule .xyz files. \n",
    "\n",
    "- Covered [nucleophiles](./data/nucleophiles.csv) range: -8.80 ≤ N ≤ 30.82\n",
    "\n",
    "- Covered [electrophiles](./data/electrophiles.csv) range: -29.60 ≤ E ≤ 8.02 "
   ]
  },
  {
   "cell_type": "code",
   "execution_count": 2,
   "id": "6e0df5ef",
   "metadata": {
    "execution": {
     "iopub.execute_input": "2023-07-18T22:09:13.267407Z",
     "iopub.status.busy": "2023-07-18T22:09:13.266618Z",
     "iopub.status.idle": "2023-07-18T22:09:13.270573Z",
     "shell.execute_reply": "2023-07-18T22:09:13.270025Z"
    }
   },
   "outputs": [],
   "source": [
    "from mlita import datasets\n",
    "\n",
    "# import some data to play with\n",
    "#mayrs = datasets.load_mayrs()\n",
    "#X = mayrs.data[:, :2]  # we only take the first two features.\n",
    "#y = mayrs.target"
   ]
  },
  {
   "cell_type": "code",
   "execution_count": null,
   "id": "940a29af",
   "metadata": {},
   "outputs": [],
   "source": []
  }
 ],
 "metadata": {
  "kernelspec": {
   "display_name": "Python 3 (ipykernel)",
   "language": "python",
   "name": "python3"
  },
  "language_info": {
   "codemirror_mode": {
    "name": "ipython",
    "version": 3
   },
   "file_extension": ".py",
   "mimetype": "text/x-python",
   "name": "python",
   "nbconvert_exporter": "python",
   "pygments_lexer": "ipython3",
   "version": "3.9.12"
  }
 },
 "nbformat": 4,
 "nbformat_minor": 5
}
